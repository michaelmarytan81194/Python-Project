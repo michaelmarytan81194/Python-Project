{
 "cells": [
  {
   "cell_type": "code",
   "execution_count": null,
   "id": "bb39d515",
   "metadata": {},
   "outputs": [],
   "source": [
    "#How to unzip file\n",
    "from zipfile import ZipFile \n",
    "  \n",
    "# loading the temp.zip and creating a zip object \n",
    "with ZipFile(\"datasource.zip\", 'r') as zObject: \n",
    "  \n",
    "    # Extracting all the members of the zip  \n",
    "    # into a specific location. \n",
    "    zObject.extractall() "
   ]
  },
  {
   "cell_type": "code",
   "execution_count": 1,
   "id": "9a002baf",
   "metadata": {},
   "outputs": [],
   "source": [
    "#1. Import necessary libraries\n",
    "import glob\n",
    "import pandas as pd\n",
    "import xml.etree.ElementTree as ET #deal with XML format\n",
    "import json\n",
    "from datetime import datetime"
   ]
  },
  {
   "cell_type": "code",
   "execution_count": 2,
   "id": "d176cc9a",
   "metadata": {},
   "outputs": [
    {
     "name": "stderr",
     "output_type": "stream",
     "text": [
      "--2023-08-24 17:30:31--  https://cf-courses-data.s3.us.cloud-object-storage.appdomain.cloud/IBMDeveloperSkillsNetwork-PY0221EN-SkillsNetwork/labs/module%206/Lab%20-%20Extract%20Transform%20Load/data/datasource.zip\n",
      "Resolving cf-courses-data.s3.us.cloud-object-storage.appdomain.cloud (cf-courses-data.s3.us.cloud-object-storage.appdomain.cloud)... 169.45.118.108\n",
      "Connecting to cf-courses-data.s3.us.cloud-object-storage.appdomain.cloud (cf-courses-data.s3.us.cloud-object-storage.appdomain.cloud)|169.45.118.108|:443... connected.\n",
      "HTTP request sent, awaiting response... 200 OK\n",
      "Length: 4249 (4.1K) [application/zip]\n",
      "Saving to: 'datasource.zip'\n",
      "\n",
      "     0K ....                                                  100%  427M=0s\n",
      "\n",
      "2023-08-24 17:30:32 (427 MB/s) - 'datasource.zip' saved [4249/4249]\n",
      "\n"
     ]
    }
   ],
   "source": [
    "!wget https://cf-courses-data.s3.us.cloud-object-storage.appdomain.cloud/IBMDeveloperSkillsNetwork-PY0221EN-SkillsNetwork/labs/module%206/Lab%20-%20Extract%20Transform%20Load/data/datasource.zip"
   ]
  },
  {
   "cell_type": "code",
   "execution_count": 3,
   "id": "60991b7a",
   "metadata": {},
   "outputs": [],
   "source": [
    "tmpfile    = \"dealership_temp.tmp\"               # file used to store all extracted data\n",
    "logfile    = \"dealership_logfile.txt\"            # all event logs will be stored in this file\n",
    "targetfile = \"dealership_transformed_data.csv\"   # file where transformed data is stored"
   ]
  },
  {
   "cell_type": "code",
   "execution_count": 12,
   "id": "4646adb6",
   "metadata": {},
   "outputs": [],
   "source": [
    "#2. Extract functions:\n",
    "def extract_from_csv(input_file):\n",
    "    df = pd.read_csv(input_file)\n",
    "    return df\n",
    "\n",
    "def extract_from_json(input_file):\n",
    "    df = pd.read_json(input_file, lines = True)\n",
    "    return df\n",
    "\n",
    "def extract_from_xml(input_file):\n",
    "    df = pd.DataFrame(columns = [\"car_model\",\"year_of_manufacture\",\"price\",\"fuel\"])\n",
    "    tree = ET.parse(input_file)\n",
    "    root = tree.getroot()\n",
    "    for row in root:\n",
    "        car_model = row.find(\"car_model\").text\n",
    "        year_of_manufacture = row.find(\"year_of_manufacture\").text\n",
    "        price = float(row.find(\"price\").text)\n",
    "        fuel = row.find(\"fuel\").text\n",
    "        df = df.append({\"car_model\" : car_model ,\"year_of_manufacture\": year_of_manufacture,\"price\" : price,\"fuel\": fuel}, ignore_index = True)\n",
    "    return df\n"
   ]
  },
  {
   "cell_type": "code",
   "execution_count": 13,
   "id": "bb04352e",
   "metadata": {},
   "outputs": [],
   "source": [
    "#3. Synthesizing extract function:\n",
    "def extract():\n",
    "    extracted_data = pd.DataFrame(columns = [\"car_model\",\"year_of_manufacture\",\"price\",\"fuel\"])\n",
    "    for csvfile in glob.glob(\"*.csv\"):\n",
    "        extracted_data = extracted_data.append(extract_from_csv(csvfile), ignore_index = True)\n",
    "    for jsonfile in glob.glob(\"*.json\"):\n",
    "        extracted_data = extracted_data.append(extract_from_json(jsonfile), ignore_index = True)\n",
    "    for xmlfile in glob.glob(\"*.xml\"):\n",
    "        extracted_data = extracted_data.append(extract_from_xml(xmlfile), ignore_index = True)\n",
    "    return extracted_data\n",
    "    "
   ]
  },
  {
   "cell_type": "code",
   "execution_count": 6,
   "id": "858e2f11",
   "metadata": {},
   "outputs": [],
   "source": [
    "#4. Transform function:\n",
    "def transform (data):\n",
    "    data['price'] = round(data.price, 2)\n",
    "    return data"
   ]
  },
  {
   "cell_type": "code",
   "execution_count": 7,
   "id": "8836aa8e",
   "metadata": {},
   "outputs": [],
   "source": [
    "def load(targetfile, data_to_load):\n",
    "    data_to_load.to_csv(targetfile)"
   ]
  },
  {
   "cell_type": "code",
   "execution_count": 15,
   "id": "d21fe161",
   "metadata": {},
   "outputs": [
    {
     "name": "stderr",
     "output_type": "stream",
     "text": [
      "C:\\Users\\vagy1255\\AppData\\Local\\Temp\\ipykernel_20968\\4279640944.py:5: FutureWarning: The frame.append method is deprecated and will be removed from pandas in a future version. Use pandas.concat instead.\n",
      "  extracted_data = extracted_data.append(extract_from_csv(csvfile), ignore_index = True)\n",
      "C:\\Users\\vagy1255\\AppData\\Local\\Temp\\ipykernel_20968\\4279640944.py:5: FutureWarning: The frame.append method is deprecated and will be removed from pandas in a future version. Use pandas.concat instead.\n",
      "  extracted_data = extracted_data.append(extract_from_csv(csvfile), ignore_index = True)\n",
      "C:\\Users\\vagy1255\\AppData\\Local\\Temp\\ipykernel_20968\\4279640944.py:5: FutureWarning: The frame.append method is deprecated and will be removed from pandas in a future version. Use pandas.concat instead.\n",
      "  extracted_data = extracted_data.append(extract_from_csv(csvfile), ignore_index = True)\n",
      "C:\\Users\\vagy1255\\AppData\\Local\\Temp\\ipykernel_20968\\4279640944.py:7: FutureWarning: The frame.append method is deprecated and will be removed from pandas in a future version. Use pandas.concat instead.\n",
      "  extracted_data = extracted_data.append(extract_from_json(jsonfile), ignore_index = True)\n",
      "C:\\Users\\vagy1255\\AppData\\Local\\Temp\\ipykernel_20968\\4279640944.py:7: FutureWarning: The frame.append method is deprecated and will be removed from pandas in a future version. Use pandas.concat instead.\n",
      "  extracted_data = extracted_data.append(extract_from_json(jsonfile), ignore_index = True)\n",
      "C:\\Users\\vagy1255\\AppData\\Local\\Temp\\ipykernel_20968\\4279640944.py:7: FutureWarning: The frame.append method is deprecated and will be removed from pandas in a future version. Use pandas.concat instead.\n",
      "  extracted_data = extracted_data.append(extract_from_json(jsonfile), ignore_index = True)\n",
      "C:\\Users\\vagy1255\\AppData\\Local\\Temp\\ipykernel_20968\\977942326.py:19: FutureWarning: The frame.append method is deprecated and will be removed from pandas in a future version. Use pandas.concat instead.\n",
      "  df = df.append({\"car_model\" : car_model ,\"year_of_manufacture\": year_of_manufacture,\"price\" : price,\"fuel\": fuel}, ignore_index = True)\n",
      "C:\\Users\\vagy1255\\AppData\\Local\\Temp\\ipykernel_20968\\977942326.py:19: FutureWarning: The frame.append method is deprecated and will be removed from pandas in a future version. Use pandas.concat instead.\n",
      "  df = df.append({\"car_model\" : car_model ,\"year_of_manufacture\": year_of_manufacture,\"price\" : price,\"fuel\": fuel}, ignore_index = True)\n",
      "C:\\Users\\vagy1255\\AppData\\Local\\Temp\\ipykernel_20968\\977942326.py:19: FutureWarning: The frame.append method is deprecated and will be removed from pandas in a future version. Use pandas.concat instead.\n",
      "  df = df.append({\"car_model\" : car_model ,\"year_of_manufacture\": year_of_manufacture,\"price\" : price,\"fuel\": fuel}, ignore_index = True)\n",
      "C:\\Users\\vagy1255\\AppData\\Local\\Temp\\ipykernel_20968\\977942326.py:19: FutureWarning: The frame.append method is deprecated and will be removed from pandas in a future version. Use pandas.concat instead.\n",
      "  df = df.append({\"car_model\" : car_model ,\"year_of_manufacture\": year_of_manufacture,\"price\" : price,\"fuel\": fuel}, ignore_index = True)\n",
      "C:\\Users\\vagy1255\\AppData\\Local\\Temp\\ipykernel_20968\\977942326.py:19: FutureWarning: The frame.append method is deprecated and will be removed from pandas in a future version. Use pandas.concat instead.\n",
      "  df = df.append({\"car_model\" : car_model ,\"year_of_manufacture\": year_of_manufacture,\"price\" : price,\"fuel\": fuel}, ignore_index = True)\n",
      "C:\\Users\\vagy1255\\AppData\\Local\\Temp\\ipykernel_20968\\977942326.py:19: FutureWarning: The frame.append method is deprecated and will be removed from pandas in a future version. Use pandas.concat instead.\n",
      "  df = df.append({\"car_model\" : car_model ,\"year_of_manufacture\": year_of_manufacture,\"price\" : price,\"fuel\": fuel}, ignore_index = True)\n",
      "C:\\Users\\vagy1255\\AppData\\Local\\Temp\\ipykernel_20968\\977942326.py:19: FutureWarning: The frame.append method is deprecated and will be removed from pandas in a future version. Use pandas.concat instead.\n",
      "  df = df.append({\"car_model\" : car_model ,\"year_of_manufacture\": year_of_manufacture,\"price\" : price,\"fuel\": fuel}, ignore_index = True)\n",
      "C:\\Users\\vagy1255\\AppData\\Local\\Temp\\ipykernel_20968\\977942326.py:19: FutureWarning: The frame.append method is deprecated and will be removed from pandas in a future version. Use pandas.concat instead.\n",
      "  df = df.append({\"car_model\" : car_model ,\"year_of_manufacture\": year_of_manufacture,\"price\" : price,\"fuel\": fuel}, ignore_index = True)\n",
      "C:\\Users\\vagy1255\\AppData\\Local\\Temp\\ipykernel_20968\\977942326.py:19: FutureWarning: The frame.append method is deprecated and will be removed from pandas in a future version. Use pandas.concat instead.\n",
      "  df = df.append({\"car_model\" : car_model ,\"year_of_manufacture\": year_of_manufacture,\"price\" : price,\"fuel\": fuel}, ignore_index = True)\n",
      "C:\\Users\\vagy1255\\AppData\\Local\\Temp\\ipykernel_20968\\977942326.py:19: FutureWarning: The frame.append method is deprecated and will be removed from pandas in a future version. Use pandas.concat instead.\n",
      "  df = df.append({\"car_model\" : car_model ,\"year_of_manufacture\": year_of_manufacture,\"price\" : price,\"fuel\": fuel}, ignore_index = True)\n",
      "C:\\Users\\vagy1255\\AppData\\Local\\Temp\\ipykernel_20968\\4279640944.py:9: FutureWarning: The frame.append method is deprecated and will be removed from pandas in a future version. Use pandas.concat instead.\n",
      "  extracted_data = extracted_data.append(extract_from_xml(xmlfile), ignore_index = True)\n",
      "C:\\Users\\vagy1255\\AppData\\Local\\Temp\\ipykernel_20968\\977942326.py:19: FutureWarning: The frame.append method is deprecated and will be removed from pandas in a future version. Use pandas.concat instead.\n",
      "  df = df.append({\"car_model\" : car_model ,\"year_of_manufacture\": year_of_manufacture,\"price\" : price,\"fuel\": fuel}, ignore_index = True)\n",
      "C:\\Users\\vagy1255\\AppData\\Local\\Temp\\ipykernel_20968\\977942326.py:19: FutureWarning: The frame.append method is deprecated and will be removed from pandas in a future version. Use pandas.concat instead.\n",
      "  df = df.append({\"car_model\" : car_model ,\"year_of_manufacture\": year_of_manufacture,\"price\" : price,\"fuel\": fuel}, ignore_index = True)\n",
      "C:\\Users\\vagy1255\\AppData\\Local\\Temp\\ipykernel_20968\\977942326.py:19: FutureWarning: The frame.append method is deprecated and will be removed from pandas in a future version. Use pandas.concat instead.\n",
      "  df = df.append({\"car_model\" : car_model ,\"year_of_manufacture\": year_of_manufacture,\"price\" : price,\"fuel\": fuel}, ignore_index = True)\n",
      "C:\\Users\\vagy1255\\AppData\\Local\\Temp\\ipykernel_20968\\977942326.py:19: FutureWarning: The frame.append method is deprecated and will be removed from pandas in a future version. Use pandas.concat instead.\n",
      "  df = df.append({\"car_model\" : car_model ,\"year_of_manufacture\": year_of_manufacture,\"price\" : price,\"fuel\": fuel}, ignore_index = True)\n",
      "C:\\Users\\vagy1255\\AppData\\Local\\Temp\\ipykernel_20968\\977942326.py:19: FutureWarning: The frame.append method is deprecated and will be removed from pandas in a future version. Use pandas.concat instead.\n",
      "  df = df.append({\"car_model\" : car_model ,\"year_of_manufacture\": year_of_manufacture,\"price\" : price,\"fuel\": fuel}, ignore_index = True)\n",
      "C:\\Users\\vagy1255\\AppData\\Local\\Temp\\ipykernel_20968\\977942326.py:19: FutureWarning: The frame.append method is deprecated and will be removed from pandas in a future version. Use pandas.concat instead.\n",
      "  df = df.append({\"car_model\" : car_model ,\"year_of_manufacture\": year_of_manufacture,\"price\" : price,\"fuel\": fuel}, ignore_index = True)\n",
      "C:\\Users\\vagy1255\\AppData\\Local\\Temp\\ipykernel_20968\\977942326.py:19: FutureWarning: The frame.append method is deprecated and will be removed from pandas in a future version. Use pandas.concat instead.\n",
      "  df = df.append({\"car_model\" : car_model ,\"year_of_manufacture\": year_of_manufacture,\"price\" : price,\"fuel\": fuel}, ignore_index = True)\n",
      "C:\\Users\\vagy1255\\AppData\\Local\\Temp\\ipykernel_20968\\977942326.py:19: FutureWarning: The frame.append method is deprecated and will be removed from pandas in a future version. Use pandas.concat instead.\n",
      "  df = df.append({\"car_model\" : car_model ,\"year_of_manufacture\": year_of_manufacture,\"price\" : price,\"fuel\": fuel}, ignore_index = True)\n",
      "C:\\Users\\vagy1255\\AppData\\Local\\Temp\\ipykernel_20968\\977942326.py:19: FutureWarning: The frame.append method is deprecated and will be removed from pandas in a future version. Use pandas.concat instead.\n",
      "  df = df.append({\"car_model\" : car_model ,\"year_of_manufacture\": year_of_manufacture,\"price\" : price,\"fuel\": fuel}, ignore_index = True)\n",
      "C:\\Users\\vagy1255\\AppData\\Local\\Temp\\ipykernel_20968\\977942326.py:19: FutureWarning: The frame.append method is deprecated and will be removed from pandas in a future version. Use pandas.concat instead.\n",
      "  df = df.append({\"car_model\" : car_model ,\"year_of_manufacture\": year_of_manufacture,\"price\" : price,\"fuel\": fuel}, ignore_index = True)\n",
      "C:\\Users\\vagy1255\\AppData\\Local\\Temp\\ipykernel_20968\\4279640944.py:9: FutureWarning: The frame.append method is deprecated and will be removed from pandas in a future version. Use pandas.concat instead.\n",
      "  extracted_data = extracted_data.append(extract_from_xml(xmlfile), ignore_index = True)\n",
      "C:\\Users\\vagy1255\\AppData\\Local\\Temp\\ipykernel_20968\\977942326.py:19: FutureWarning: The frame.append method is deprecated and will be removed from pandas in a future version. Use pandas.concat instead.\n",
      "  df = df.append({\"car_model\" : car_model ,\"year_of_manufacture\": year_of_manufacture,\"price\" : price,\"fuel\": fuel}, ignore_index = True)\n",
      "C:\\Users\\vagy1255\\AppData\\Local\\Temp\\ipykernel_20968\\977942326.py:19: FutureWarning: The frame.append method is deprecated and will be removed from pandas in a future version. Use pandas.concat instead.\n",
      "  df = df.append({\"car_model\" : car_model ,\"year_of_manufacture\": year_of_manufacture,\"price\" : price,\"fuel\": fuel}, ignore_index = True)\n",
      "C:\\Users\\vagy1255\\AppData\\Local\\Temp\\ipykernel_20968\\977942326.py:19: FutureWarning: The frame.append method is deprecated and will be removed from pandas in a future version. Use pandas.concat instead.\n",
      "  df = df.append({\"car_model\" : car_model ,\"year_of_manufacture\": year_of_manufacture,\"price\" : price,\"fuel\": fuel}, ignore_index = True)\n",
      "C:\\Users\\vagy1255\\AppData\\Local\\Temp\\ipykernel_20968\\977942326.py:19: FutureWarning: The frame.append method is deprecated and will be removed from pandas in a future version. Use pandas.concat instead.\n",
      "  df = df.append({\"car_model\" : car_model ,\"year_of_manufacture\": year_of_manufacture,\"price\" : price,\"fuel\": fuel}, ignore_index = True)\n",
      "C:\\Users\\vagy1255\\AppData\\Local\\Temp\\ipykernel_20968\\977942326.py:19: FutureWarning: The frame.append method is deprecated and will be removed from pandas in a future version. Use pandas.concat instead.\n",
      "  df = df.append({\"car_model\" : car_model ,\"year_of_manufacture\": year_of_manufacture,\"price\" : price,\"fuel\": fuel}, ignore_index = True)\n",
      "C:\\Users\\vagy1255\\AppData\\Local\\Temp\\ipykernel_20968\\977942326.py:19: FutureWarning: The frame.append method is deprecated and will be removed from pandas in a future version. Use pandas.concat instead.\n",
      "  df = df.append({\"car_model\" : car_model ,\"year_of_manufacture\": year_of_manufacture,\"price\" : price,\"fuel\": fuel}, ignore_index = True)\n",
      "C:\\Users\\vagy1255\\AppData\\Local\\Temp\\ipykernel_20968\\977942326.py:19: FutureWarning: The frame.append method is deprecated and will be removed from pandas in a future version. Use pandas.concat instead.\n",
      "  df = df.append({\"car_model\" : car_model ,\"year_of_manufacture\": year_of_manufacture,\"price\" : price,\"fuel\": fuel}, ignore_index = True)\n",
      "C:\\Users\\vagy1255\\AppData\\Local\\Temp\\ipykernel_20968\\977942326.py:19: FutureWarning: The frame.append method is deprecated and will be removed from pandas in a future version. Use pandas.concat instead.\n",
      "  df = df.append({\"car_model\" : car_model ,\"year_of_manufacture\": year_of_manufacture,\"price\" : price,\"fuel\": fuel}, ignore_index = True)\n",
      "C:\\Users\\vagy1255\\AppData\\Local\\Temp\\ipykernel_20968\\977942326.py:19: FutureWarning: The frame.append method is deprecated and will be removed from pandas in a future version. Use pandas.concat instead.\n",
      "  df = df.append({\"car_model\" : car_model ,\"year_of_manufacture\": year_of_manufacture,\"price\" : price,\"fuel\": fuel}, ignore_index = True)\n",
      "C:\\Users\\vagy1255\\AppData\\Local\\Temp\\ipykernel_20968\\977942326.py:19: FutureWarning: The frame.append method is deprecated and will be removed from pandas in a future version. Use pandas.concat instead.\n",
      "  df = df.append({\"car_model\" : car_model ,\"year_of_manufacture\": year_of_manufacture,\"price\" : price,\"fuel\": fuel}, ignore_index = True)\n",
      "C:\\Users\\vagy1255\\AppData\\Local\\Temp\\ipykernel_20968\\4279640944.py:9: FutureWarning: The frame.append method is deprecated and will be removed from pandas in a future version. Use pandas.concat instead.\n",
      "  extracted_data = extracted_data.append(extract_from_xml(xmlfile), ignore_index = True)\n"
     ]
    }
   ],
   "source": [
    "extracted_data = extract()"
   ]
  },
  {
   "cell_type": "code",
   "execution_count": 16,
   "id": "040681ec",
   "metadata": {},
   "outputs": [],
   "source": [
    "transformed_data = transform(extracted_data)"
   ]
  },
  {
   "cell_type": "code",
   "execution_count": 17,
   "id": "93b6dd72",
   "metadata": {},
   "outputs": [],
   "source": [
    "load(targetfile, transformed_data)"
   ]
  },
  {
   "cell_type": "code",
   "execution_count": null,
   "id": "4d722f92",
   "metadata": {},
   "outputs": [],
   "source": []
  }
 ],
 "metadata": {
  "kernelspec": {
   "display_name": "Python 3 (ipykernel)",
   "language": "python",
   "name": "python3"
  },
  "language_info": {
   "codemirror_mode": {
    "name": "ipython",
    "version": 3
   },
   "file_extension": ".py",
   "mimetype": "text/x-python",
   "name": "python",
   "nbconvert_exporter": "python",
   "pygments_lexer": "ipython3",
   "version": "3.10.9"
  }
 },
 "nbformat": 4,
 "nbformat_minor": 5
}
