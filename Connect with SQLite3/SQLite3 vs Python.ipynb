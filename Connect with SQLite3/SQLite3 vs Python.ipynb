{
 "cells": [
  {
   "cell_type": "code",
   "execution_count": 1,
   "id": "f340b155",
   "metadata": {},
   "outputs": [],
   "source": [
    "#1. Import necessary libraries\n",
    "import sqlite3\n",
    "import pandas as pd \n",
    "conn = sqlite3.connect('STAFF.db')"
   ]
  },
  {
   "cell_type": "code",
   "execution_count": 2,
   "id": "2cf49072",
   "metadata": {},
   "outputs": [],
   "source": [
    "#2. Blueprint table attrs\n",
    "table_name = 'INSTRUCTOR'\n",
    "attribute_list = ['ID', 'FNAME', 'LNAME', 'CITY', 'CCODE']"
   ]
  },
  {
   "cell_type": "code",
   "execution_count": 3,
   "id": "19459870",
   "metadata": {},
   "outputs": [
    {
     "data": {
      "text/html": [
       "<div>\n",
       "<style scoped>\n",
       "    .dataframe tbody tr th:only-of-type {\n",
       "        vertical-align: middle;\n",
       "    }\n",
       "\n",
       "    .dataframe tbody tr th {\n",
       "        vertical-align: top;\n",
       "    }\n",
       "\n",
       "    .dataframe thead th {\n",
       "        text-align: right;\n",
       "    }\n",
       "</style>\n",
       "<table border=\"1\" class=\"dataframe\">\n",
       "  <thead>\n",
       "    <tr style=\"text-align: right;\">\n",
       "      <th></th>\n",
       "      <th>ID</th>\n",
       "      <th>FNAME</th>\n",
       "      <th>LNAME</th>\n",
       "      <th>CITY</th>\n",
       "      <th>CCODE</th>\n",
       "    </tr>\n",
       "  </thead>\n",
       "  <tbody>\n",
       "    <tr>\n",
       "      <th>0</th>\n",
       "      <td>1</td>\n",
       "      <td>Rav</td>\n",
       "      <td>Ahuja</td>\n",
       "      <td>TORONTO</td>\n",
       "      <td>CA</td>\n",
       "    </tr>\n",
       "    <tr>\n",
       "      <th>1</th>\n",
       "      <td>2</td>\n",
       "      <td>Raul</td>\n",
       "      <td>Chong</td>\n",
       "      <td>Markham</td>\n",
       "      <td>CA</td>\n",
       "    </tr>\n",
       "    <tr>\n",
       "      <th>2</th>\n",
       "      <td>3</td>\n",
       "      <td>Hima</td>\n",
       "      <td>Vasudevan</td>\n",
       "      <td>Chicago</td>\n",
       "      <td>US</td>\n",
       "    </tr>\n",
       "    <tr>\n",
       "      <th>3</th>\n",
       "      <td>4</td>\n",
       "      <td>John</td>\n",
       "      <td>Thomas</td>\n",
       "      <td>Illinois</td>\n",
       "      <td>US</td>\n",
       "    </tr>\n",
       "    <tr>\n",
       "      <th>4</th>\n",
       "      <td>5</td>\n",
       "      <td>Alice</td>\n",
       "      <td>James</td>\n",
       "      <td>Illinois</td>\n",
       "      <td>US</td>\n",
       "    </tr>\n",
       "    <tr>\n",
       "      <th>5</th>\n",
       "      <td>6</td>\n",
       "      <td>Steve</td>\n",
       "      <td>Wells</td>\n",
       "      <td>Illinois</td>\n",
       "      <td>US</td>\n",
       "    </tr>\n",
       "    <tr>\n",
       "      <th>6</th>\n",
       "      <td>7</td>\n",
       "      <td>Santosh</td>\n",
       "      <td>Kumar</td>\n",
       "      <td>Illinois</td>\n",
       "      <td>US</td>\n",
       "    </tr>\n",
       "    <tr>\n",
       "      <th>7</th>\n",
       "      <td>8</td>\n",
       "      <td>Ahmed</td>\n",
       "      <td>Hussain</td>\n",
       "      <td>Illinois</td>\n",
       "      <td>US</td>\n",
       "    </tr>\n",
       "    <tr>\n",
       "      <th>8</th>\n",
       "      <td>9</td>\n",
       "      <td>Nancy</td>\n",
       "      <td>Allen</td>\n",
       "      <td>Illinois</td>\n",
       "      <td>US</td>\n",
       "    </tr>\n",
       "    <tr>\n",
       "      <th>9</th>\n",
       "      <td>10</td>\n",
       "      <td>Mary</td>\n",
       "      <td>Thomas</td>\n",
       "      <td>Illinois</td>\n",
       "      <td>US</td>\n",
       "    </tr>\n",
       "    <tr>\n",
       "      <th>10</th>\n",
       "      <td>11</td>\n",
       "      <td>Bharath</td>\n",
       "      <td>Gupta</td>\n",
       "      <td>Illinois</td>\n",
       "      <td>US</td>\n",
       "    </tr>\n",
       "    <tr>\n",
       "      <th>11</th>\n",
       "      <td>12</td>\n",
       "      <td>Andrea</td>\n",
       "      <td>Jones</td>\n",
       "      <td>Illinois</td>\n",
       "      <td>US</td>\n",
       "    </tr>\n",
       "    <tr>\n",
       "      <th>12</th>\n",
       "      <td>13</td>\n",
       "      <td>Ann</td>\n",
       "      <td>Jacob</td>\n",
       "      <td>Illinois</td>\n",
       "      <td>US</td>\n",
       "    </tr>\n",
       "    <tr>\n",
       "      <th>13</th>\n",
       "      <td>14</td>\n",
       "      <td>Amit</td>\n",
       "      <td>Kumar</td>\n",
       "      <td>NewDelhi</td>\n",
       "      <td>IN</td>\n",
       "    </tr>\n",
       "  </tbody>\n",
       "</table>\n",
       "</div>"
      ],
      "text/plain": [
       "    ID    FNAME      LNAME      CITY CCODE\n",
       "0    1      Rav      Ahuja   TORONTO    CA\n",
       "1    2     Raul      Chong   Markham    CA\n",
       "2    3     Hima  Vasudevan   Chicago    US\n",
       "3    4     John     Thomas  Illinois    US\n",
       "4    5    Alice      James  Illinois    US\n",
       "5    6    Steve      Wells  Illinois    US\n",
       "6    7  Santosh      Kumar  Illinois    US\n",
       "7    8    Ahmed    Hussain  Illinois    US\n",
       "8    9    Nancy      Allen  Illinois    US\n",
       "9   10     Mary     Thomas  Illinois    US\n",
       "10  11  Bharath      Gupta  Illinois    US\n",
       "11  12   Andrea      Jones  Illinois    US\n",
       "12  13      Ann      Jacob  Illinois    US\n",
       "13  14     Amit      Kumar  NewDelhi    IN"
      ]
     },
     "execution_count": 3,
     "metadata": {},
     "output_type": "execute_result"
    }
   ],
   "source": [
    "file_path = 'INSTRUCTOR.csv'\n",
    "df = pd.read_csv(file_path, names = attribute_list) #names arg is the name for columns\n",
    "df"
   ]
  },
  {
   "cell_type": "code",
   "execution_count": 4,
   "id": "fc038939",
   "metadata": {},
   "outputs": [
    {
     "name": "stdout",
     "output_type": "stream",
     "text": [
      "Table is ready\n"
     ]
    }
   ],
   "source": [
    "df.to_sql(table_name, conn, if_exists = 'replace', index =False)\n",
    "print('Table is ready')"
   ]
  },
  {
   "cell_type": "code",
   "execution_count": 5,
   "id": "cc67fdd4",
   "metadata": {},
   "outputs": [
    {
     "name": "stdout",
     "output_type": "stream",
     "text": [
      "SELECT * FROM INSTRUCTOR\n",
      "    ID    FNAME      LNAME      CITY CCODE\n",
      "0    1      Rav      Ahuja   TORONTO    CA\n",
      "1    2     Raul      Chong   Markham    CA\n",
      "2    3     Hima  Vasudevan   Chicago    US\n",
      "3    4     John     Thomas  Illinois    US\n",
      "4    5    Alice      James  Illinois    US\n",
      "5    6    Steve      Wells  Illinois    US\n",
      "6    7  Santosh      Kumar  Illinois    US\n",
      "7    8    Ahmed    Hussain  Illinois    US\n",
      "8    9    Nancy      Allen  Illinois    US\n",
      "9   10     Mary     Thomas  Illinois    US\n",
      "10  11  Bharath      Gupta  Illinois    US\n",
      "11  12   Andrea      Jones  Illinois    US\n",
      "12  13      Ann      Jacob  Illinois    US\n",
      "13  14     Amit      Kumar  NewDelhi    IN\n"
     ]
    }
   ],
   "source": [
    "#Test query with SQL\n",
    "query_statement = f\"SELECT * FROM {table_name}\"\n",
    "query_output = pd.read_sql(query_statement, conn)\n",
    "print(query_statement)\n",
    "print(query_output)"
   ]
  },
  {
   "cell_type": "code",
   "execution_count": 6,
   "id": "88ee7cf3",
   "metadata": {},
   "outputs": [
    {
     "name": "stdout",
     "output_type": "stream",
     "text": [
      "SELECT FNAME FROM INSTRUCTOR\n",
      "      FNAME\n",
      "0       Rav\n",
      "1      Raul\n",
      "2      Hima\n",
      "3      John\n",
      "4     Alice\n",
      "5     Steve\n",
      "6   Santosh\n",
      "7     Ahmed\n",
      "8     Nancy\n",
      "9      Mary\n",
      "10  Bharath\n",
      "11   Andrea\n",
      "12      Ann\n",
      "13     Amit\n"
     ]
    }
   ],
   "source": [
    "query_statement = f\"SELECT FNAME FROM {table_name}\"\n",
    "query_output = pd.read_sql(query_statement, conn)\n",
    "print(query_statement)\n",
    "print(query_output)"
   ]
  },
  {
   "cell_type": "code",
   "execution_count": 7,
   "id": "37a81325",
   "metadata": {},
   "outputs": [
    {
     "name": "stdout",
     "output_type": "stream",
     "text": [
      "SELECT COUNT(*) FROM INSTRUCTOR\n",
      "   COUNT(*)\n",
      "0        14\n"
     ]
    }
   ],
   "source": [
    "query_statement = f\"SELECT COUNT(*) FROM {table_name}\"\n",
    "query_output = pd.read_sql(query_statement, conn)\n",
    "print(query_statement)\n",
    "print(query_output)"
   ]
  },
  {
   "cell_type": "code",
   "execution_count": 8,
   "id": "e7d8abdf",
   "metadata": {},
   "outputs": [],
   "source": [
    "data_dict = {'ID' : [100],\n",
    "            'FNAME' : ['John'],\n",
    "            'LNAME' : ['Doe'],\n",
    "            'CITY' : ['Paris'],\n",
    "            'CCODE' : ['FR']}\n",
    "data_append = pd.DataFrame(data_dict)"
   ]
  },
  {
   "cell_type": "code",
   "execution_count": 9,
   "id": "c153679a",
   "metadata": {},
   "outputs": [
    {
     "name": "stdout",
     "output_type": "stream",
     "text": [
      "Data appended successfully\n"
     ]
    }
   ],
   "source": [
    "#Append the data\n",
    "data_append.to_sql(table_name, conn, if_exists = 'append', index =False)\n",
    "print('Data appended successfully')"
   ]
  },
  {
   "cell_type": "code",
   "execution_count": 23,
   "id": "3b6fd385",
   "metadata": {},
   "outputs": [
    {
     "name": "stdout",
     "output_type": "stream",
     "text": [
      "SELECT * FROM INSTRUCTOR\n",
      "     ID    FNAME      LNAME      CITY CCODE\n",
      "0     1      Rav      Ahuja   TORONTO    CA\n",
      "1     2     Raul      Chong   Markham    CA\n",
      "2     3     Hima  Vasudevan   Chicago    US\n",
      "3     4     John     Thomas  Illinois    US\n",
      "4     5    Alice      James  Illinois    US\n",
      "5     6    Steve      Wells  Illinois    US\n",
      "6     7  Santosh      Kumar  Illinois    US\n",
      "7     8    Ahmed    Hussain  Illinois    US\n",
      "8     9    Nancy      Allen  Illinois    US\n",
      "9    10     Mary     Thomas  Illinois    US\n",
      "10   11  Bharath      Gupta  Illinois    US\n",
      "11   12   Andrea      Jones  Illinois    US\n",
      "12   13      Ann      Jacob  Illinois    US\n",
      "13   14     Amit      Kumar  NewDelhi    IN\n",
      "14  100     John        Doe     Paris    FR\n"
     ]
    }
   ],
   "source": [
    "query_statement = f\"SELECT * FROM {table_name}\"\n",
    "query_output = pd.read_sql(query_statement, conn)\n",
    "print(query_statement)\n",
    "print(query_output)"
   ]
  },
  {
   "cell_type": "code",
   "execution_count": 46,
   "id": "af2e6fa0",
   "metadata": {},
   "outputs": [],
   "source": [
    "#2. Blueprint 2nd table attrs\n",
    "table_name_2 = 'DEPARTMENT'\n",
    "attribute_list_2 = ['DEPT_ID', 'DEP_NAME', 'MANAGER_ID', 'LOC_ID']"
   ]
  },
  {
   "cell_type": "code",
   "execution_count": 47,
   "id": "841cb8a2",
   "metadata": {},
   "outputs": [
    {
     "data": {
      "text/html": [
       "<div>\n",
       "<style scoped>\n",
       "    .dataframe tbody tr th:only-of-type {\n",
       "        vertical-align: middle;\n",
       "    }\n",
       "\n",
       "    .dataframe tbody tr th {\n",
       "        vertical-align: top;\n",
       "    }\n",
       "\n",
       "    .dataframe thead th {\n",
       "        text-align: right;\n",
       "    }\n",
       "</style>\n",
       "<table border=\"1\" class=\"dataframe\">\n",
       "  <thead>\n",
       "    <tr style=\"text-align: right;\">\n",
       "      <th></th>\n",
       "      <th>DEPT_ID</th>\n",
       "      <th>DEP_NAME</th>\n",
       "      <th>MANAGER_ID</th>\n",
       "      <th>LOC_ID</th>\n",
       "    </tr>\n",
       "  </thead>\n",
       "  <tbody>\n",
       "    <tr>\n",
       "      <th>0</th>\n",
       "      <td>2</td>\n",
       "      <td>Architect Group</td>\n",
       "      <td>30001</td>\n",
       "      <td>L0001</td>\n",
       "    </tr>\n",
       "    <tr>\n",
       "      <th>1</th>\n",
       "      <td>5</td>\n",
       "      <td>Software Group</td>\n",
       "      <td>30002</td>\n",
       "      <td>L0002</td>\n",
       "    </tr>\n",
       "    <tr>\n",
       "      <th>2</th>\n",
       "      <td>7</td>\n",
       "      <td>Design Team</td>\n",
       "      <td>30003</td>\n",
       "      <td>L0003</td>\n",
       "    </tr>\n",
       "  </tbody>\n",
       "</table>\n",
       "</div>"
      ],
      "text/plain": [
       "   DEPT_ID         DEP_NAME  MANAGER_ID LOC_ID\n",
       "0        2  Architect Group       30001  L0001\n",
       "1        5   Software Group       30002  L0002\n",
       "2        7      Design Team       30003  L0003"
      ]
     },
     "execution_count": 47,
     "metadata": {},
     "output_type": "execute_result"
    }
   ],
   "source": [
    "file_path_2 = 'Departments.csv'\n",
    "df_2 = pd.read_csv(file_path_2, names = attribute_list_2) #names arg is the name for columns\n",
    "df_2"
   ]
  },
  {
   "cell_type": "code",
   "execution_count": 51,
   "id": "bfd4df79",
   "metadata": {},
   "outputs": [
    {
     "name": "stdout",
     "output_type": "stream",
     "text": [
      "Table is ready\n"
     ]
    }
   ],
   "source": [
    "df_2.to_sql(table_name_2, conn, if_exists = 'replace', index =False)\n",
    "print('Table is ready')\n"
   ]
  },
  {
   "cell_type": "code",
   "execution_count": 49,
   "id": "657ce747",
   "metadata": {},
   "outputs": [],
   "source": [
    "data_dict_2 = {'DEPT_ID' : [9],\n",
    "            'DEP_NAME' : ['Quality Assurance'],\n",
    "            'MANAGER_ID' : ['30010'],\n",
    "            'LOC_ID' : ['L0010']}\n",
    "data_append_2 = pd.DataFrame(data_dict)"
   ]
  },
  {
   "cell_type": "code",
   "execution_count": 53,
   "id": "d2f16a1c",
   "metadata": {},
   "outputs": [
    {
     "name": "stdout",
     "output_type": "stream",
     "text": [
      "SELECT * FROM DEPARTMENT\n",
      "   DEPT_ID         DEP_NAME  MANAGER_ID LOC_ID\n",
      "0        2  Architect Group       30001  L0001\n",
      "1        5   Software Group       30002  L0002\n",
      "2        7      Design Team       30003  L0003\n"
     ]
    }
   ],
   "source": [
    "query_statement = f\"SELECT * FROM {table_name_2}\"\n",
    "query_output = pd.read_sql(query_statement, conn)\n",
    "print(query_statement)\n",
    "print(query_output)"
   ]
  },
  {
   "cell_type": "code",
   "execution_count": null,
   "id": "ef880c3b",
   "metadata": {},
   "outputs": [],
   "source": []
  }
 ],
 "metadata": {
  "kernelspec": {
   "display_name": "Python 3 (ipykernel)",
   "language": "python",
   "name": "python3"
  },
  "language_info": {
   "codemirror_mode": {
    "name": "ipython",
    "version": 3
   },
   "file_extension": ".py",
   "mimetype": "text/x-python",
   "name": "python",
   "nbconvert_exporter": "python",
   "pygments_lexer": "ipython3",
   "version": "3.10.9"
  }
 },
 "nbformat": 4,
 "nbformat_minor": 5
}
