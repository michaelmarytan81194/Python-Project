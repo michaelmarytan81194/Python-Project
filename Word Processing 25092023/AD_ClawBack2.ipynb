{
 "cells": [
  {
   "cell_type": "code",
   "execution_count": 39,
   "id": "6d893e88",
   "metadata": {},
   "outputs": [],
   "source": [
    "from docxtpl import DocxTemplate\n",
    "import pandas as pd\n",
    "doc = DocxTemplate(\"Word2.docx\")"
   ]
  },
  {
   "cell_type": "code",
   "execution_count": 40,
   "id": "9633b45a",
   "metadata": {},
   "outputs": [
    {
     "data": {
      "text/plain": [
       "'một trăm hai mươi mốt triệu chín trăm tám mươi bốn nghìn ba trăm mười bốn'"
      ]
     },
     "execution_count": 40,
     "metadata": {},
     "output_type": "execute_result"
    }
   ],
   "source": [
    "from vietnam_number import n2w\n",
    "number= '121984314'\n",
    "n2w(number)"
   ]
  },
  {
   "cell_type": "code",
   "execution_count": 41,
   "id": "ec3c7e37",
   "metadata": {
    "scrolled": true
   },
   "outputs": [
    {
     "data": {
      "text/html": [
       "<div>\n",
       "<style scoped>\n",
       "    .dataframe tbody tr th:only-of-type {\n",
       "        vertical-align: middle;\n",
       "    }\n",
       "\n",
       "    .dataframe tbody tr th {\n",
       "        vertical-align: top;\n",
       "    }\n",
       "\n",
       "    .dataframe thead th {\n",
       "        text-align: right;\n",
       "    }\n",
       "</style>\n",
       "<table border=\"1\" class=\"dataframe\">\n",
       "  <thead>\n",
       "    <tr style=\"text-align: right;\">\n",
       "      <th></th>\n",
       "      <th>Code</th>\n",
       "      <th>gender</th>\n",
       "      <th>Gender</th>\n",
       "      <th>AD_Name</th>\n",
       "      <th>Grade</th>\n",
       "      <th>Add</th>\n",
       "      <th>Contract_No</th>\n",
       "      <th>Contract_Date</th>\n",
       "      <th>Paid</th>\n",
       "      <th>Holding</th>\n",
       "      <th>Total</th>\n",
       "    </tr>\n",
       "  </thead>\n",
       "  <tbody>\n",
       "    <tr>\n",
       "      <th>0</th>\n",
       "      <td>09/2023/ THKT-PHL-AD</td>\n",
       "      <td>chị</td>\n",
       "      <td>Chị</td>\n",
       "      <td>Chung Thanh Trúc</td>\n",
       "      <td>Giám Đốc Kinh Doanh Khu Vực Cấp Cao</td>\n",
       "      <td>An Cư, Quận Ninh Kiều, TP. Cần Thơ</td>\n",
       "      <td>395/2023/LC</td>\n",
       "      <td>01/07/2023</td>\n",
       "      <td>195128812</td>\n",
       "      <td>197920872</td>\n",
       "      <td>393049684</td>\n",
       "    </tr>\n",
       "  </tbody>\n",
       "</table>\n",
       "</div>"
      ],
      "text/plain": [
       "                   Code gender Gender           AD_Name  \\\n",
       "0  09/2023/ THKT-PHL-AD    chị    Chị  Chung Thanh Trúc   \n",
       "\n",
       "                                 Grade                                 Add  \\\n",
       "0  Giám Đốc Kinh Doanh Khu Vực Cấp Cao  An Cư, Quận Ninh Kiều, TP. Cần Thơ   \n",
       "\n",
       "   Contract_No Contract_Date       Paid    Holding      Total  \n",
       "0  395/2023/LC    01/07/2023  195128812  197920872  393049684  "
      ]
     },
     "execution_count": 41,
     "metadata": {},
     "output_type": "execute_result"
    }
   ],
   "source": [
    "handle_excel = pd.ExcelFile(\"Excel2.xlsx\")\n",
    "data = handle_excel.parse('Sheet2')\n",
    "data.head(1)"
   ]
  },
  {
   "cell_type": "code",
   "execution_count": 38,
   "id": "948818d2",
   "metadata": {},
   "outputs": [],
   "source": [
    "handle_excel.close()"
   ]
  },
  {
   "cell_type": "code",
   "execution_count": 42,
   "id": "587c7420",
   "metadata": {
    "scrolled": true
   },
   "outputs": [
    {
     "data": {
      "text/html": [
       "<div>\n",
       "<style scoped>\n",
       "    .dataframe tbody tr th:only-of-type {\n",
       "        vertical-align: middle;\n",
       "    }\n",
       "\n",
       "    .dataframe tbody tr th {\n",
       "        vertical-align: top;\n",
       "    }\n",
       "\n",
       "    .dataframe thead th {\n",
       "        text-align: right;\n",
       "    }\n",
       "</style>\n",
       "<table border=\"1\" class=\"dataframe\">\n",
       "  <thead>\n",
       "    <tr style=\"text-align: right;\">\n",
       "      <th></th>\n",
       "      <th>Code</th>\n",
       "      <th>gender</th>\n",
       "      <th>Gender</th>\n",
       "      <th>AD_Name</th>\n",
       "      <th>Grade</th>\n",
       "      <th>Add</th>\n",
       "      <th>Contract_No</th>\n",
       "      <th>Contract_Date</th>\n",
       "      <th>Paid</th>\n",
       "      <th>Holding</th>\n",
       "      <th>Total</th>\n",
       "      <th>Amount_Word</th>\n",
       "    </tr>\n",
       "  </thead>\n",
       "  <tbody>\n",
       "    <tr>\n",
       "      <th>0</th>\n",
       "      <td>09/2023/ THKT-PHL-AD</td>\n",
       "      <td>chị</td>\n",
       "      <td>Chị</td>\n",
       "      <td>Chung Thanh Trúc</td>\n",
       "      <td>Giám Đốc Kinh Doanh Khu Vực Cấp Cao</td>\n",
       "      <td>An Cư, Quận Ninh Kiều, TP. Cần Thơ</td>\n",
       "      <td>395/2023/LC</td>\n",
       "      <td>01/07/2023</td>\n",
       "      <td>195128812</td>\n",
       "      <td>197920872</td>\n",
       "      <td>393049684</td>\n",
       "      <td>Một trăm chín mươi lăm triệu một trăm hai mươi...</td>\n",
       "    </tr>\n",
       "    <tr>\n",
       "      <th>1</th>\n",
       "      <td>11/2023/ THKT-PHL-AD</td>\n",
       "      <td>chị</td>\n",
       "      <td>Chị</td>\n",
       "      <td>Lê Nguyễn Ánh Nguyệt</td>\n",
       "      <td>Giám Đốc Kinh Doanh Khu Vực Cấp Cao</td>\n",
       "      <td>Tổ 7, xã Mỹ Lợi A, H. Cái Bè, Tỉnh Tiền Giang</td>\n",
       "      <td>298/2022/LC</td>\n",
       "      <td>13/08/2022</td>\n",
       "      <td>1548106197</td>\n",
       "      <td>143827538</td>\n",
       "      <td>1691933735</td>\n",
       "      <td>Một tỷ năm trăm bốn mươi tám triệu một trăm lẽ...</td>\n",
       "    </tr>\n",
       "    <tr>\n",
       "      <th>2</th>\n",
       "      <td>12/2023/ THKT-PHL-AD</td>\n",
       "      <td>anh</td>\n",
       "      <td>Anh</td>\n",
       "      <td>Lữ Minh Tâm</td>\n",
       "      <td>Giám Đốc Kinh Doanh Khu Vực Cấp Cao</td>\n",
       "      <td>Ấp Ba Se B, Xã Lương Hòa, Huyện Châu Thành, Tr...</td>\n",
       "      <td>393/2022/LC</td>\n",
       "      <td>08/10/2022</td>\n",
       "      <td>412219195</td>\n",
       "      <td>169148483</td>\n",
       "      <td>581367678</td>\n",
       "      <td>Bốn trăm mười hai triệu hai trăm mười chín ngh...</td>\n",
       "    </tr>\n",
       "    <tr>\n",
       "      <th>3</th>\n",
       "      <td>10/2023/ THKT-PHL-AD</td>\n",
       "      <td>anh</td>\n",
       "      <td>Anh</td>\n",
       "      <td>Phạm Minh Hoàng</td>\n",
       "      <td>Giám Đốc Kinh Doanh Khu Vực Cấp Cao</td>\n",
       "      <td>22/5 ấp Trung Mỹ Tây, xã Trung Chánh, H. Hóc M...</td>\n",
       "      <td>261/2022/LC</td>\n",
       "      <td>04/07/2022</td>\n",
       "      <td>716633909</td>\n",
       "      <td>176827604</td>\n",
       "      <td>893461513</td>\n",
       "      <td>Bảy trăm mười sáu triệu sáu trăm ba mươi ba ng...</td>\n",
       "    </tr>\n",
       "  </tbody>\n",
       "</table>\n",
       "</div>"
      ],
      "text/plain": [
       "                   Code gender Gender               AD_Name  \\\n",
       "0  09/2023/ THKT-PHL-AD    chị    Chị      Chung Thanh Trúc   \n",
       "1  11/2023/ THKT-PHL-AD    chị    Chị  Lê Nguyễn Ánh Nguyệt   \n",
       "2  12/2023/ THKT-PHL-AD    anh    Anh           Lữ Minh Tâm   \n",
       "3  10/2023/ THKT-PHL-AD    anh    Anh       Phạm Minh Hoàng   \n",
       "\n",
       "                                 Grade  \\\n",
       "0  Giám Đốc Kinh Doanh Khu Vực Cấp Cao   \n",
       "1  Giám Đốc Kinh Doanh Khu Vực Cấp Cao   \n",
       "2  Giám Đốc Kinh Doanh Khu Vực Cấp Cao   \n",
       "3  Giám Đốc Kinh Doanh Khu Vực Cấp Cao   \n",
       "\n",
       "                                                 Add  Contract_No  \\\n",
       "0                 An Cư, Quận Ninh Kiều, TP. Cần Thơ  395/2023/LC   \n",
       "1      Tổ 7, xã Mỹ Lợi A, H. Cái Bè, Tỉnh Tiền Giang  298/2022/LC   \n",
       "2  Ấp Ba Se B, Xã Lương Hòa, Huyện Châu Thành, Tr...  393/2022/LC   \n",
       "3  22/5 ấp Trung Mỹ Tây, xã Trung Chánh, H. Hóc M...  261/2022/LC   \n",
       "\n",
       "  Contract_Date        Paid    Holding       Total  \\\n",
       "0    01/07/2023   195128812  197920872   393049684   \n",
       "1    13/08/2022  1548106197  143827538  1691933735   \n",
       "2    08/10/2022   412219195  169148483   581367678   \n",
       "3    04/07/2022   716633909  176827604   893461513   \n",
       "\n",
       "                                         Amount_Word  \n",
       "0  Một trăm chín mươi lăm triệu một trăm hai mươi...  \n",
       "1  Một tỷ năm trăm bốn mươi tám triệu một trăm lẽ...  \n",
       "2  Bốn trăm mười hai triệu hai trăm mười chín ngh...  \n",
       "3  Bảy trăm mười sáu triệu sáu trăm ba mươi ba ng...  "
      ]
     },
     "execution_count": 42,
     "metadata": {},
     "output_type": "execute_result"
    }
   ],
   "source": [
    "#Phải run cái này trước để tránh mất format của cột Amount ở kiểu number\n",
    "data['Amount_Word'] = pd.Series([n2w(str(number)).capitalize() for number in data['Paid']])\n",
    "data"
   ]
  },
  {
   "cell_type": "code",
   "execution_count": 43,
   "id": "094e3767",
   "metadata": {},
   "outputs": [],
   "source": [
    "#ỏ đây đã thành string\n",
    "data['Paid'] = pd.Series([f'{number:,}'.replace(\",\",\".\") for number in data['Paid']])\n",
    "data['Holding'] = pd.Series([f'{number:,}'.replace(\",\",\".\") for number in data['Holding']])\n",
    "data['Total'] = pd.Series([f'{number:,}'.replace(\",\",\".\") for number in data['Total']])"
   ]
  },
  {
   "cell_type": "code",
   "execution_count": 44,
   "id": "ef3169be",
   "metadata": {},
   "outputs": [
    {
     "data": {
      "text/html": [
       "<div>\n",
       "<style scoped>\n",
       "    .dataframe tbody tr th:only-of-type {\n",
       "        vertical-align: middle;\n",
       "    }\n",
       "\n",
       "    .dataframe tbody tr th {\n",
       "        vertical-align: top;\n",
       "    }\n",
       "\n",
       "    .dataframe thead th {\n",
       "        text-align: right;\n",
       "    }\n",
       "</style>\n",
       "<table border=\"1\" class=\"dataframe\">\n",
       "  <thead>\n",
       "    <tr style=\"text-align: right;\">\n",
       "      <th></th>\n",
       "      <th>Code</th>\n",
       "      <th>gender</th>\n",
       "      <th>Gender</th>\n",
       "      <th>AD_Name</th>\n",
       "      <th>Grade</th>\n",
       "      <th>Add</th>\n",
       "      <th>Contract_No</th>\n",
       "      <th>Contract_Date</th>\n",
       "      <th>Paid</th>\n",
       "      <th>Holding</th>\n",
       "      <th>Total</th>\n",
       "      <th>Amount_Word</th>\n",
       "    </tr>\n",
       "  </thead>\n",
       "  <tbody>\n",
       "    <tr>\n",
       "      <th>0</th>\n",
       "      <td>09/2023/ THKT-PHL-AD</td>\n",
       "      <td>chị</td>\n",
       "      <td>Chị</td>\n",
       "      <td>Chung Thanh Trúc</td>\n",
       "      <td>Giám Đốc Kinh Doanh Khu Vực Cấp Cao</td>\n",
       "      <td>An Cư, Quận Ninh Kiều, TP. Cần Thơ</td>\n",
       "      <td>395/2023/LC</td>\n",
       "      <td>01/07/2023</td>\n",
       "      <td>195.128.812</td>\n",
       "      <td>197.920.872</td>\n",
       "      <td>393.049.684</td>\n",
       "      <td>Một trăm chín mươi lăm triệu một trăm hai mươi...</td>\n",
       "    </tr>\n",
       "  </tbody>\n",
       "</table>\n",
       "</div>"
      ],
      "text/plain": [
       "                   Code gender Gender           AD_Name  \\\n",
       "0  09/2023/ THKT-PHL-AD    chị    Chị  Chung Thanh Trúc   \n",
       "\n",
       "                                 Grade                                 Add  \\\n",
       "0  Giám Đốc Kinh Doanh Khu Vực Cấp Cao  An Cư, Quận Ninh Kiều, TP. Cần Thơ   \n",
       "\n",
       "   Contract_No Contract_Date         Paid      Holding        Total  \\\n",
       "0  395/2023/LC    01/07/2023  195.128.812  197.920.872  393.049.684   \n",
       "\n",
       "                                         Amount_Word  \n",
       "0  Một trăm chín mươi lăm triệu một trăm hai mươi...  "
      ]
     },
     "execution_count": 44,
     "metadata": {},
     "output_type": "execute_result"
    }
   ],
   "source": [
    "data.head(1)"
   ]
  },
  {
   "cell_type": "code",
   "execution_count": 55,
   "id": "d41364a6",
   "metadata": {},
   "outputs": [],
   "source": [
    "for index, row in data.iterrows():\n",
    "    context = { \n",
    "        'Code': row['Code'],\n",
    "        'Gender' : row['Gender'],\n",
    "        'AD_Name' : row['AD_Name'],\n",
    "        'Add': row['Add'],\n",
    "        'Grade': row['Grade'],\n",
    "        'Contract_No': row['Contract_No'],\n",
    "        'Contract_Date': row['Contract_Date'],\n",
    "        'Paid' : row['Paid'],\n",
    "        'Holding': row['Holding'],\n",
    "        'Total': row['Total'],\n",
    "        'Amount_Word': row['Amount_Word'],\n",
    "        'gender': row['gender']\n",
    "    }\n",
    "    doc.render(context)\n",
    "    doc.save(f\"result2/{row['Grade']}-{row['AD_Name']}.docx\")"
   ]
  },
  {
   "cell_type": "code",
   "execution_count": null,
   "id": "fe40da35",
   "metadata": {},
   "outputs": [],
   "source": []
  }
 ],
 "metadata": {
  "kernelspec": {
   "display_name": "Python 3 (ipykernel)",
   "language": "python",
   "name": "python3"
  },
  "language_info": {
   "codemirror_mode": {
    "name": "ipython",
    "version": 3
   },
   "file_extension": ".py",
   "mimetype": "text/x-python",
   "name": "python",
   "nbconvert_exporter": "python",
   "pygments_lexer": "ipython3",
   "version": "3.10.9"
  }
 },
 "nbformat": 4,
 "nbformat_minor": 5
}
