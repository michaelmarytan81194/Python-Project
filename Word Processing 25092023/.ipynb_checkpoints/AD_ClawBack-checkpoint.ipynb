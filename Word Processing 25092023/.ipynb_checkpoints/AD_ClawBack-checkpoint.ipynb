{
 "cells": [
  {
   "cell_type": "code",
   "execution_count": 70,
   "id": "6d893e88",
   "metadata": {},
   "outputs": [],
   "source": [
    "from docxtpl import DocxTemplate\n",
    "import pandas as pd\n",
    "doc = DocxTemplate(\"Word.docx\")"
   ]
  },
  {
   "cell_type": "code",
   "execution_count": 15,
   "id": "ec3c7e37",
   "metadata": {
    "scrolled": true
   },
   "outputs": [
    {
     "data": {
      "text/html": [
       "<div>\n",
       "<style scoped>\n",
       "    .dataframe tbody tr th:only-of-type {\n",
       "        vertical-align: middle;\n",
       "    }\n",
       "\n",
       "    .dataframe tbody tr th {\n",
       "        vertical-align: top;\n",
       "    }\n",
       "\n",
       "    .dataframe thead th {\n",
       "        text-align: right;\n",
       "    }\n",
       "</style>\n",
       "<table border=\"1\" class=\"dataframe\">\n",
       "  <thead>\n",
       "    <tr style=\"text-align: right;\">\n",
       "      <th></th>\n",
       "      <th>No</th>\n",
       "      <th>Code</th>\n",
       "      <th>Gender</th>\n",
       "      <th>AD Code</th>\n",
       "      <th>AD_Name</th>\n",
       "      <th>Grade</th>\n",
       "      <th>AD Status</th>\n",
       "      <th>Date_Appointed</th>\n",
       "      <th>Terdate\\nHandover Date</th>\n",
       "      <th>Last Working\\nDate</th>\n",
       "      <th>Add</th>\n",
       "      <th>Contract_No</th>\n",
       "      <th>Contract_Date</th>\n",
       "      <th>Amount</th>\n",
       "    </tr>\n",
       "  </thead>\n",
       "  <tbody>\n",
       "    <tr>\n",
       "      <th>0</th>\n",
       "      <td>1</td>\n",
       "      <td>01/2023/ THKT-PHL-AD</td>\n",
       "      <td>Anh</td>\n",
       "      <td>AD273</td>\n",
       "      <td>Bùi Văn Thách</td>\n",
       "      <td>RAD</td>\n",
       "      <td>Terminated</td>\n",
       "      <td>2020-07-13</td>\n",
       "      <td>2023-03-09</td>\n",
       "      <td>2023-04-24</td>\n",
       "      <td>Tổ dân phố 2, P. Nghĩa Đức, TP. Gia Nghĩa, tỉn...</td>\n",
       "      <td>368/2022/LC</td>\n",
       "      <td>01-10-2022</td>\n",
       "      <td>25677244</td>\n",
       "    </tr>\n",
       "  </tbody>\n",
       "</table>\n",
       "</div>"
      ],
      "text/plain": [
       "   No                  Code Gender AD Code        AD_Name Grade   AD Status  \\\n",
       "0   1  01/2023/ THKT-PHL-AD    Anh   AD273  Bùi Văn Thách   RAD  Terminated   \n",
       "\n",
       "  Date_Appointed Terdate\\nHandover Date Last Working\\nDate  \\\n",
       "0     2020-07-13             2023-03-09         2023-04-24   \n",
       "\n",
       "                                                 Add  Contract_No  \\\n",
       "0  Tổ dân phố 2, P. Nghĩa Đức, TP. Gia Nghĩa, tỉn...  368/2022/LC   \n",
       "\n",
       "  Contract_Date    Amount  \n",
       "0    01-10-2022  25677244  "
      ]
     },
     "execution_count": 15,
     "metadata": {},
     "output_type": "execute_result"
    }
   ],
   "source": [
    "handle_excel = pd.ExcelFile(\"Excel.xlsx\")\n",
    "data = handle_excel.parse('Sheet1')\n",
    "data.head(1)"
   ]
  },
  {
   "cell_type": "code",
   "execution_count": 37,
   "id": "b1e3c587",
   "metadata": {},
   "outputs": [
    {
     "data": {
      "text/plain": [
       "['hai mươi lăm triệu sáu trăm bảy mươi bảy nghìn hai trăm bốn mươi bốn',\n",
       " 'tám mươi bảy triệu hai trăm bảy mươi bốn nghìn ba trăm chín mươi sáu',\n",
       " 'hai mươi lăm triệu ba trăm tám mươi tám nghìn bốn trăm sáu mươi bảy',\n",
       " 'bốn mươi tám triệu ba trăm năm mươi lăm nghìn bốn trăm bốn mươi',\n",
       " 'một trăm hai mươi mốt triệu chín trăm tám mươi bốn nghìn ba trăm mười bốn',\n",
       " 'một trăm hai mươi bảy triệu không trăm tám mươi lăm nghìn năm trăm mười',\n",
       " 'hai trăm chín mươi hai triệu ba trăm bảy mươi chín nghìn chín trăm lẽ một',\n",
       " 'ba mươi bảy triệu ba trăm sáu mươi lăm nghìn năm trăm năm mươi bảy']"
      ]
     },
     "execution_count": 37,
     "metadata": {},
     "output_type": "execute_result"
    }
   ],
   "source": [
    "lst = [n2w(str(number)) for number in data['Amount']]\n",
    "lst"
   ]
  },
  {
   "cell_type": "code",
   "execution_count": 45,
   "id": "587c7420",
   "metadata": {
    "scrolled": true
   },
   "outputs": [],
   "source": [
    "#Phải run cái này trước để tránh mất format của cột Amount ở kiểu number\n",
    "data['Amount_Word'] = pd.Series([n2w(str(number)) for number in data['Amount']])"
   ]
  },
  {
   "cell_type": "code",
   "execution_count": 60,
   "id": "094e3767",
   "metadata": {},
   "outputs": [],
   "source": [
    "#ỏ đây đã thành string\n",
    "data['Amount'] = pd.Series([f'{number:,}'.replace(\",\",\".\") for number in data['Amount']])"
   ]
  },
  {
   "cell_type": "code",
   "execution_count": 65,
   "id": "ef3169be",
   "metadata": {},
   "outputs": [
    {
     "data": {
      "text/html": [
       "<div>\n",
       "<style scoped>\n",
       "    .dataframe tbody tr th:only-of-type {\n",
       "        vertical-align: middle;\n",
       "    }\n",
       "\n",
       "    .dataframe tbody tr th {\n",
       "        vertical-align: top;\n",
       "    }\n",
       "\n",
       "    .dataframe thead th {\n",
       "        text-align: right;\n",
       "    }\n",
       "</style>\n",
       "<table border=\"1\" class=\"dataframe\">\n",
       "  <thead>\n",
       "    <tr style=\"text-align: right;\">\n",
       "      <th></th>\n",
       "      <th>No</th>\n",
       "      <th>Code</th>\n",
       "      <th>Gender</th>\n",
       "      <th>AD Code</th>\n",
       "      <th>AD_Name</th>\n",
       "      <th>Grade</th>\n",
       "      <th>AD Status</th>\n",
       "      <th>Date_Appointed</th>\n",
       "      <th>Terdate\\nHandover Date</th>\n",
       "      <th>Last Working\\nDate</th>\n",
       "      <th>Add</th>\n",
       "      <th>Contract_No</th>\n",
       "      <th>Contract_Date</th>\n",
       "      <th>Amount</th>\n",
       "      <th>Amount_Word</th>\n",
       "    </tr>\n",
       "  </thead>\n",
       "  <tbody>\n",
       "    <tr>\n",
       "      <th>0</th>\n",
       "      <td>1</td>\n",
       "      <td>01/2023/ THKT-PHL-AD</td>\n",
       "      <td>Anh</td>\n",
       "      <td>AD273</td>\n",
       "      <td>Bùi Văn Thách</td>\n",
       "      <td>RAD</td>\n",
       "      <td>Terminated</td>\n",
       "      <td>2020-07-13</td>\n",
       "      <td>2023-03-09</td>\n",
       "      <td>2023-04-24</td>\n",
       "      <td>Tổ dân phố 2, P. Nghĩa Đức, TP. Gia Nghĩa, tỉn...</td>\n",
       "      <td>368/2022/LC</td>\n",
       "      <td>01-10-2022</td>\n",
       "      <td>25.677.244</td>\n",
       "      <td>hai mươi lăm triệu sáu trăm bảy mươi bảy nghìn...</td>\n",
       "    </tr>\n",
       "  </tbody>\n",
       "</table>\n",
       "</div>"
      ],
      "text/plain": [
       "   No                  Code Gender AD Code        AD_Name Grade   AD Status  \\\n",
       "0   1  01/2023/ THKT-PHL-AD    Anh   AD273  Bùi Văn Thách   RAD  Terminated   \n",
       "\n",
       "  Date_Appointed Terdate\\nHandover Date Last Working\\nDate  \\\n",
       "0     2020-07-13             2023-03-09         2023-04-24   \n",
       "\n",
       "                                                 Add  Contract_No  \\\n",
       "0  Tổ dân phố 2, P. Nghĩa Đức, TP. Gia Nghĩa, tỉn...  368/2022/LC   \n",
       "\n",
       "  Contract_Date      Amount                                        Amount_Word  \n",
       "0    01-10-2022  25.677.244  hai mươi lăm triệu sáu trăm bảy mươi bảy nghìn...  "
      ]
     },
     "execution_count": 65,
     "metadata": {},
     "output_type": "execute_result"
    }
   ],
   "source": [
    "data.head(1)"
   ]
  },
  {
   "cell_type": "code",
   "execution_count": 72,
   "id": "d41364a6",
   "metadata": {},
   "outputs": [],
   "source": [
    "for index, row in data.iterrows():\n",
    "    context = { \n",
    "        'Code': row['Code'],\n",
    "        'Gender' : row['Gender'],\n",
    "        'AD_Name' : row['AD_Name'],\n",
    "        'Add': row['Add'],\n",
    "        'Grade': row['Grade'],\n",
    "        'Contract_No': row['Contract_No'],\n",
    "        'Contract_Date': row['Contract_Date'],\n",
    "        'Amount' : row['Amount'],\n",
    "        'Amount_Word': row['Amount_Word']\n",
    "    }\n",
    "    doc.render(context)\n",
    "    doc.save(f\"result/{row['Grade']}-{row['AD_Name']}.docx\")"
   ]
  },
  {
   "cell_type": "code",
   "execution_count": 19,
   "id": "b401cf49",
   "metadata": {},
   "outputs": [
    {
     "name": "stdout",
     "output_type": "stream",
     "text": [
      "Defaulting to user installation because normal site-packages is not writeable\n",
      "Collecting vietnam_number\n",
      "  Downloading vietnam_number-1.0.3-py3-none-any.whl (21 kB)\n",
      "Installing collected packages: vietnam_number\n",
      "Successfully installed vietnam_number-1.0.3\n",
      "Note: you may need to restart the kernel to use updated packages.\n"
     ]
    }
   ],
   "source": [
    "pip install vietnam_number"
   ]
  },
  {
   "cell_type": "code",
   "execution_count": 36,
   "id": "e936ed97",
   "metadata": {},
   "outputs": [
    {
     "data": {
      "text/plain": [
       "'một trăm hai mươi mốt triệu chín trăm tám mươi bốn nghìn ba trăm mười bốn'"
      ]
     },
     "execution_count": 36,
     "metadata": {},
     "output_type": "execute_result"
    }
   ],
   "source": [
    "from vietnam_number import n2w\n",
    "number= '121984314'\n",
    "n2w(number)"
   ]
  },
  {
   "cell_type": "code",
   "execution_count": 50,
   "id": "9f487358",
   "metadata": {},
   "outputs": [
    {
     "data": {
      "text/plain": [
       "'English_United States.1252'"
      ]
     },
     "execution_count": 50,
     "metadata": {},
     "output_type": "execute_result"
    }
   ],
   "source": [
    "import locale\n",
    "locale.setlocale(locale.LC_ALL, '')"
   ]
  },
  {
   "cell_type": "code",
   "execution_count": null,
   "id": "fe40da35",
   "metadata": {},
   "outputs": [],
   "source": []
  }
 ],
 "metadata": {
  "kernelspec": {
   "display_name": "Python 3 (ipykernel)",
   "language": "python",
   "name": "python3"
  },
  "language_info": {
   "codemirror_mode": {
    "name": "ipython",
    "version": 3
   },
   "file_extension": ".py",
   "mimetype": "text/x-python",
   "name": "python",
   "nbconvert_exporter": "python",
   "pygments_lexer": "ipython3",
   "version": "3.10.9"
  }
 },
 "nbformat": 4,
 "nbformat_minor": 5
}
