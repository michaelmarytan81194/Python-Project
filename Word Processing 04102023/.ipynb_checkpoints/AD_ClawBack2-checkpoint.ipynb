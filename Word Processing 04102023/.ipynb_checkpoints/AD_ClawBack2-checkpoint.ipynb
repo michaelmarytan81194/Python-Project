{
 "cells": [
  {
   "cell_type": "code",
   "execution_count": 1,
   "id": "6d893e88",
   "metadata": {},
   "outputs": [],
   "source": [
    "from docxtpl import DocxTemplate\n",
    "import pandas as pd\n",
    "doc = DocxTemplate(\"Word2.docx\")"
   ]
  },
  {
   "cell_type": "code",
   "execution_count": 2,
   "id": "9633b45a",
   "metadata": {},
   "outputs": [
    {
     "data": {
      "text/plain": [
       "'một trăm hai mươi mốt triệu chín trăm tám mươi bốn nghìn ba trăm mười bốn'"
      ]
     },
     "execution_count": 2,
     "metadata": {},
     "output_type": "execute_result"
    }
   ],
   "source": [
    "from vietnam_number import n2w\n",
    "number= '121984314'\n",
    "n2w(number)"
   ]
  },
  {
   "cell_type": "code",
   "execution_count": 5,
   "id": "ec3c7e37",
   "metadata": {
    "scrolled": true
   },
   "outputs": [
    {
     "data": {
      "text/html": [
       "<div>\n",
       "<style scoped>\n",
       "    .dataframe tbody tr th:only-of-type {\n",
       "        vertical-align: middle;\n",
       "    }\n",
       "\n",
       "    .dataframe tbody tr th {\n",
       "        vertical-align: top;\n",
       "    }\n",
       "\n",
       "    .dataframe thead th {\n",
       "        text-align: right;\n",
       "    }\n",
       "</style>\n",
       "<table border=\"1\" class=\"dataframe\">\n",
       "  <thead>\n",
       "    <tr style=\"text-align: right;\">\n",
       "      <th></th>\n",
       "      <th>No</th>\n",
       "      <th>Territories</th>\n",
       "      <th>Code</th>\n",
       "      <th>gender</th>\n",
       "      <th>Gender</th>\n",
       "      <th>AD_Name</th>\n",
       "      <th>Grade</th>\n",
       "      <th>Add</th>\n",
       "      <th>Contract_No</th>\n",
       "      <th>Contract_Date</th>\n",
       "      <th>Paid</th>\n",
       "      <th>Holding</th>\n",
       "      <th>Total</th>\n",
       "    </tr>\n",
       "  </thead>\n",
       "  <tbody>\n",
       "    <tr>\n",
       "      <th>0</th>\n",
       "      <td>NaN</td>\n",
       "      <td>NaN</td>\n",
       "      <td>09/2023/ THKT-PHL-AD</td>\n",
       "      <td>chị</td>\n",
       "      <td>Chị</td>\n",
       "      <td>Chung Thanh Trúc</td>\n",
       "      <td>Giám Đốc Kinh Doanh Khu Vực Cấp Cao</td>\n",
       "      <td>An Cư, Quận Ninh Kiều, TP. Cần Thơ</td>\n",
       "      <td>395/2023/LC</td>\n",
       "      <td>01/07/2023</td>\n",
       "      <td>1.951288e+08</td>\n",
       "      <td>197920872</td>\n",
       "      <td>3.930497e+08</td>\n",
       "    </tr>\n",
       "  </tbody>\n",
       "</table>\n",
       "</div>"
      ],
      "text/plain": [
       "   No  Territories                  Code gender Gender           AD_Name  \\\n",
       "0 NaN          NaN  09/2023/ THKT-PHL-AD    chị    Chị  Chung Thanh Trúc   \n",
       "\n",
       "                                 Grade                                 Add  \\\n",
       "0  Giám Đốc Kinh Doanh Khu Vực Cấp Cao  An Cư, Quận Ninh Kiều, TP. Cần Thơ   \n",
       "\n",
       "   Contract_No Contract_Date          Paid    Holding        Total   \n",
       "0  395/2023/LC    01/07/2023  1.951288e+08  197920872  3.930497e+08  "
      ]
     },
     "execution_count": 5,
     "metadata": {},
     "output_type": "execute_result"
    }
   ],
   "source": [
    "handle_excel = pd.ExcelFile(\"Excel2.xlsx\")\n",
    "data = handle_excel.parse('Sheet2')\n",
    "data.head(1)"
   ]
  },
  {
   "cell_type": "code",
   "execution_count": 4,
   "id": "587c7420",
   "metadata": {
    "scrolled": true
   },
   "outputs": [],
   "source": [
    "#Phải run cái này trước để tránh mất format của cột Amount ở kiểu number\n",
    "data['Amount_Word'] = pd.Series([n2w(str(number)).capitalize() for number in data['Amount']])"
   ]
  },
  {
   "cell_type": "code",
   "execution_count": 5,
   "id": "094e3767",
   "metadata": {},
   "outputs": [],
   "source": [
    "#ỏ đây đã thành string\n",
    "data['Amount'] = pd.Series([f'{number:,}'.replace(\",\",\".\") for number in data['Amount']])"
   ]
  },
  {
   "cell_type": "code",
   "execution_count": 6,
   "id": "ef3169be",
   "metadata": {},
   "outputs": [
    {
     "data": {
      "text/html": [
       "<div>\n",
       "<style scoped>\n",
       "    .dataframe tbody tr th:only-of-type {\n",
       "        vertical-align: middle;\n",
       "    }\n",
       "\n",
       "    .dataframe tbody tr th {\n",
       "        vertical-align: top;\n",
       "    }\n",
       "\n",
       "    .dataframe thead th {\n",
       "        text-align: right;\n",
       "    }\n",
       "</style>\n",
       "<table border=\"1\" class=\"dataframe\">\n",
       "  <thead>\n",
       "    <tr style=\"text-align: right;\">\n",
       "      <th></th>\n",
       "      <th>No</th>\n",
       "      <th>Code</th>\n",
       "      <th>gender</th>\n",
       "      <th>Gender</th>\n",
       "      <th>AD Code</th>\n",
       "      <th>AD_Name</th>\n",
       "      <th>Grade</th>\n",
       "      <th>AD Status</th>\n",
       "      <th>Date_Appointed</th>\n",
       "      <th>Terdate\\nHandover Date</th>\n",
       "      <th>Last Working\\nDate</th>\n",
       "      <th>Add</th>\n",
       "      <th>Contract_No</th>\n",
       "      <th>Contract_Date</th>\n",
       "      <th>Amount</th>\n",
       "      <th>Amount_Word</th>\n",
       "    </tr>\n",
       "  </thead>\n",
       "  <tbody>\n",
       "    <tr>\n",
       "      <th>0</th>\n",
       "      <td>1</td>\n",
       "      <td>01/2023/ THKT-PHL-AD</td>\n",
       "      <td>anh</td>\n",
       "      <td>Anh</td>\n",
       "      <td>AD273</td>\n",
       "      <td>Bùi Văn Thách</td>\n",
       "      <td>RAD</td>\n",
       "      <td>Terminated</td>\n",
       "      <td>2020-07-13</td>\n",
       "      <td>2023-03-09</td>\n",
       "      <td>2023-04-24</td>\n",
       "      <td>Tổ dân phố 2, P. Nghĩa Đức, TP. Gia Nghĩa, tỉn...</td>\n",
       "      <td>368/2022/LC</td>\n",
       "      <td>01-10-2022</td>\n",
       "      <td>25.677.244</td>\n",
       "      <td>Hai mươi lăm triệu sáu trăm bảy mươi bảy nghìn...</td>\n",
       "    </tr>\n",
       "  </tbody>\n",
       "</table>\n",
       "</div>"
      ],
      "text/plain": [
       "   No                  Code gender Gender AD Code        AD_Name Grade  \\\n",
       "0   1  01/2023/ THKT-PHL-AD    anh    Anh   AD273  Bùi Văn Thách   RAD   \n",
       "\n",
       "    AD Status Date_Appointed Terdate\\nHandover Date Last Working\\nDate  \\\n",
       "0  Terminated     2020-07-13             2023-03-09         2023-04-24   \n",
       "\n",
       "                                                 Add  Contract_No  \\\n",
       "0  Tổ dân phố 2, P. Nghĩa Đức, TP. Gia Nghĩa, tỉn...  368/2022/LC   \n",
       "\n",
       "  Contract_Date      Amount                                        Amount_Word  \n",
       "0    01-10-2022  25.677.244  Hai mươi lăm triệu sáu trăm bảy mươi bảy nghìn...  "
      ]
     },
     "execution_count": 6,
     "metadata": {},
     "output_type": "execute_result"
    }
   ],
   "source": [
    "data.head(1)"
   ]
  },
  {
   "cell_type": "code",
   "execution_count": 9,
   "id": "d41364a6",
   "metadata": {},
   "outputs": [],
   "source": [
    "for index, row in data.iterrows():\n",
    "    context = { \n",
    "        'Code': row['Code'],\n",
    "        'Gender' : row['Gender'],\n",
    "        'AD_Name' : row['AD_Name'],\n",
    "        'Add': row['Add'],\n",
    "        'Grade': row['Grade'],\n",
    "        'Contract_No': row['Contract_No'],\n",
    "        'Contract_Date': row['Contract_Date'],\n",
    "        'Amount' : row['Amount'],\n",
    "        'Amount_Word': row['Amount_Word'],\n",
    "        'gender': row['gender']\n",
    "    }\n",
    "    doc.render(context)\n",
    "    doc.save(f\"result/{row['Grade']}-{row['AD_Name']}.docx\")"
   ]
  },
  {
   "cell_type": "code",
   "execution_count": null,
   "id": "fe40da35",
   "metadata": {},
   "outputs": [],
   "source": []
  }
 ],
 "metadata": {
  "kernelspec": {
   "display_name": "Python 3 (ipykernel)",
   "language": "python",
   "name": "python3"
  },
  "language_info": {
   "codemirror_mode": {
    "name": "ipython",
    "version": 3
   },
   "file_extension": ".py",
   "mimetype": "text/x-python",
   "name": "python",
   "nbconvert_exporter": "python",
   "pygments_lexer": "ipython3",
   "version": "3.10.9"
  }
 },
 "nbformat": 4,
 "nbformat_minor": 5
}
